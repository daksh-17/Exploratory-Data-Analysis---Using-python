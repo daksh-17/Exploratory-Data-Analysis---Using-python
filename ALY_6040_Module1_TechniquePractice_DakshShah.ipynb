{
  "nbformat": 4,
  "nbformat_minor": 0,
  "metadata": {
    "colab": {
      "name": "ALY 6040_Module1_TechniquePractice_DakshShah.ipynb",
      "provenance": [],
      "collapsed_sections": []
    },
    "kernelspec": {
      "name": "python3",
      "display_name": "Python 3"
    },
    "language_info": {
      "name": "python"
    }
  },
  "cells": [
    {
      "cell_type": "markdown",
      "source": [
        "# ALY6040 - Assignment 1 - EXPLORATORY DATA ANALYSIS - Icecream Dataset - Daksh Shah."
      ],
      "metadata": {
        "id": "DltBZ5S_Ik3e"
      }
    },
    {
      "cell_type": "markdown",
      "source": [
        "Importing required libraries for the analysis"
      ],
      "metadata": {
        "id": "jOkFaZpZPhTS"
      }
    },
    {
      "cell_type": "code",
      "execution_count": 106,
      "metadata": {
        "id": "8rp2K07rtPby"
      },
      "outputs": [],
      "source": [
        "import numpy as np\n",
        "import pandas as pd\n",
        "import matplotlib.pyplot as plt\n",
        "import seaborn as sb\n",
        "sb.set_style('whitegrid')\n",
        "#!pip install category_encoders\n",
        "import category_encoders as ce"
      ]
    },
    {
      "cell_type": "markdown",
      "source": [
        "Importing Dataset"
      ],
      "metadata": {
        "id": "85ISSloPP7s8"
      }
    },
    {
      "cell_type": "code",
      "source": [
        "ic = pd.read_csv(\"https://raw.githubusercontent.com/daksh-17/Exploratory-Data-Analysis---Using-python/main/KickstarterData_assignmet1.csv\")"
      ],
      "metadata": {
        "id": "wBQ8az4Ftmc9"
      },
      "execution_count": 107,
      "outputs": []
    },
    {
      "cell_type": "markdown",
      "source": [
        "# Studying Data"
      ],
      "metadata": {
        "id": "iiAraNwRQB2B"
      }
    },
    {
      "cell_type": "code",
      "source": [
        "ic.shape"
      ],
      "metadata": {
        "colab": {
          "base_uri": "https://localhost:8080/"
        },
        "id": "8LVu2GFtwjDD",
        "outputId": "71df1785-341c-4ad8-8fb3-27e5dfbb4e05"
      },
      "execution_count": 108,
      "outputs": [
        {
          "output_type": "execute_result",
          "data": {
            "text/plain": [
              "(10000, 11)"
            ]
          },
          "metadata": {},
          "execution_count": 108
        }
      ]
    },
    {
      "cell_type": "markdown",
      "source": [
        "Structure of the dataset"
      ],
      "metadata": {
        "id": "Vwh4o4rLOFgY"
      }
    },
    {
      "cell_type": "code",
      "source": [
        "ic.info()"
      ],
      "metadata": {
        "colab": {
          "base_uri": "https://localhost:8080/"
        },
        "id": "B3uYSDs2Q-nI",
        "outputId": "79b098d3-9276-49e3-dbe1-b1387d7a2023"
      },
      "execution_count": 109,
      "outputs": [
        {
          "output_type": "stream",
          "name": "stdout",
          "text": [
            "<class 'pandas.core.frame.DataFrame'>\n",
            "RangeIndex: 10000 entries, 0 to 9999\n",
            "Data columns (total 11 columns):\n",
            " #   Column                                Non-Null Count  Dtype  \n",
            "---  ------                                --------------  -----  \n",
            " 0   Donate ID                             10000 non-null  int64  \n",
            " 1   Donate Date                           10000 non-null  object \n",
            " 2   Gender                                10000 non-null  object \n",
            " 3   Deposit Amount                        9960 non-null   float64\n",
            " 4   Preferred Color of Device             10000 non-null  object \n",
            " 5   Ice Cream Products Consumed Per Week  9896 non-null   float64\n",
            " 6   Favorite Flavor Of Ice Cream          10000 non-null  object \n",
            " 7   Donated To Kick Starter Before        10000 non-null  object \n",
            " 8   Household Income                      5199 non-null   object \n",
            " 9   Do you own a Keurig                   10000 non-null  object \n",
            " 10  How many desserts do you eat a week   10000 non-null  int64  \n",
            "dtypes: float64(2), int64(2), object(7)\n",
            "memory usage: 859.5+ KB\n"
          ]
        }
      ]
    },
    {
      "cell_type": "markdown",
      "source": [
        "A view at data set"
      ],
      "metadata": {
        "id": "YiTgwSbHOIIi"
      }
    },
    {
      "cell_type": "code",
      "source": [
        "ic.head(10)"
      ],
      "metadata": {
        "colab": {
          "base_uri": "https://localhost:8080/",
          "height": 424
        },
        "id": "77AnyvYUQpvy",
        "outputId": "43eae468-259f-48d8-f2c7-1110280c81be"
      },
      "execution_count": 110,
      "outputs": [
        {
          "output_type": "execute_result",
          "data": {
            "text/plain": [
              "   Donate ID Donate Date  Gender  Deposit Amount Preferred Color of Device  \\\n",
              "0          1    7/1/2019  female           100.0                     white   \n",
              "1          2    7/1/2019  female           100.0                      blue   \n",
              "2          3    7/1/2019  female           100.0                    silver   \n",
              "3          4    7/1/2019  female           100.0                    silver   \n",
              "4          5    7/1/2019    male           100.0                     white   \n",
              "5          6    7/1/2019    male           100.0                     white   \n",
              "6          7    7/1/2019  female           100.0                      blue   \n",
              "7          8    7/1/2019  female           100.0                     black   \n",
              "8          9    7/1/2019    male           100.0                      blue   \n",
              "9         10    7/1/2019    male           100.0             no preference   \n",
              "\n",
              "   Ice Cream Products Consumed Per Week Favorite Flavor Of Ice Cream  \\\n",
              "0                                   4.0                      vanilla   \n",
              "1                                   5.0                      vanilla   \n",
              "2                                   6.0                      vanilla   \n",
              "3                                   5.0                      vanilla   \n",
              "4                                   1.0                      vanilla   \n",
              "5                                   0.0                      vanilla   \n",
              "6                                   2.0                      vanilla   \n",
              "7                                   5.0                      vanilla   \n",
              "8                                   2.0                      vanilla   \n",
              "9                                   1.0                      vanilla   \n",
              "\n",
              "  Donated To Kick Starter Before Household Income Do you own a Keurig  \\\n",
              "0                            yes             <50K                 yes   \n",
              "1                            yes             <50K                 yes   \n",
              "2                            yes             <50K                 yes   \n",
              "3                            yes             <50K                 yes   \n",
              "4                            yes             <50K                 yes   \n",
              "5                            yes             <50K                 yes   \n",
              "6                            yes             <50K                 yes   \n",
              "7                            yes             <50K                 yes   \n",
              "8                            yes             <50K                 yes   \n",
              "9                            yes             <50K                 yes   \n",
              "\n",
              "   How many desserts do you eat a week  \n",
              "0                                    7  \n",
              "1                                    5  \n",
              "2                                    1  \n",
              "3                                    4  \n",
              "4                                    7  \n",
              "5                                    9  \n",
              "6                                    5  \n",
              "7                                    9  \n",
              "8                                    7  \n",
              "9                                    5  "
            ],
            "text/html": [
              "\n",
              "  <div id=\"df-f7f7ec37-2012-4d62-b4b0-d6e448c3ccf6\">\n",
              "    <div class=\"colab-df-container\">\n",
              "      <div>\n",
              "<style scoped>\n",
              "    .dataframe tbody tr th:only-of-type {\n",
              "        vertical-align: middle;\n",
              "    }\n",
              "\n",
              "    .dataframe tbody tr th {\n",
              "        vertical-align: top;\n",
              "    }\n",
              "\n",
              "    .dataframe thead th {\n",
              "        text-align: right;\n",
              "    }\n",
              "</style>\n",
              "<table border=\"1\" class=\"dataframe\">\n",
              "  <thead>\n",
              "    <tr style=\"text-align: right;\">\n",
              "      <th></th>\n",
              "      <th>Donate ID</th>\n",
              "      <th>Donate Date</th>\n",
              "      <th>Gender</th>\n",
              "      <th>Deposit Amount</th>\n",
              "      <th>Preferred Color of Device</th>\n",
              "      <th>Ice Cream Products Consumed Per Week</th>\n",
              "      <th>Favorite Flavor Of Ice Cream</th>\n",
              "      <th>Donated To Kick Starter Before</th>\n",
              "      <th>Household Income</th>\n",
              "      <th>Do you own a Keurig</th>\n",
              "      <th>How many desserts do you eat a week</th>\n",
              "    </tr>\n",
              "  </thead>\n",
              "  <tbody>\n",
              "    <tr>\n",
              "      <th>0</th>\n",
              "      <td>1</td>\n",
              "      <td>7/1/2019</td>\n",
              "      <td>female</td>\n",
              "      <td>100.0</td>\n",
              "      <td>white</td>\n",
              "      <td>4.0</td>\n",
              "      <td>vanilla</td>\n",
              "      <td>yes</td>\n",
              "      <td>&lt;50K</td>\n",
              "      <td>yes</td>\n",
              "      <td>7</td>\n",
              "    </tr>\n",
              "    <tr>\n",
              "      <th>1</th>\n",
              "      <td>2</td>\n",
              "      <td>7/1/2019</td>\n",
              "      <td>female</td>\n",
              "      <td>100.0</td>\n",
              "      <td>blue</td>\n",
              "      <td>5.0</td>\n",
              "      <td>vanilla</td>\n",
              "      <td>yes</td>\n",
              "      <td>&lt;50K</td>\n",
              "      <td>yes</td>\n",
              "      <td>5</td>\n",
              "    </tr>\n",
              "    <tr>\n",
              "      <th>2</th>\n",
              "      <td>3</td>\n",
              "      <td>7/1/2019</td>\n",
              "      <td>female</td>\n",
              "      <td>100.0</td>\n",
              "      <td>silver</td>\n",
              "      <td>6.0</td>\n",
              "      <td>vanilla</td>\n",
              "      <td>yes</td>\n",
              "      <td>&lt;50K</td>\n",
              "      <td>yes</td>\n",
              "      <td>1</td>\n",
              "    </tr>\n",
              "    <tr>\n",
              "      <th>3</th>\n",
              "      <td>4</td>\n",
              "      <td>7/1/2019</td>\n",
              "      <td>female</td>\n",
              "      <td>100.0</td>\n",
              "      <td>silver</td>\n",
              "      <td>5.0</td>\n",
              "      <td>vanilla</td>\n",
              "      <td>yes</td>\n",
              "      <td>&lt;50K</td>\n",
              "      <td>yes</td>\n",
              "      <td>4</td>\n",
              "    </tr>\n",
              "    <tr>\n",
              "      <th>4</th>\n",
              "      <td>5</td>\n",
              "      <td>7/1/2019</td>\n",
              "      <td>male</td>\n",
              "      <td>100.0</td>\n",
              "      <td>white</td>\n",
              "      <td>1.0</td>\n",
              "      <td>vanilla</td>\n",
              "      <td>yes</td>\n",
              "      <td>&lt;50K</td>\n",
              "      <td>yes</td>\n",
              "      <td>7</td>\n",
              "    </tr>\n",
              "    <tr>\n",
              "      <th>5</th>\n",
              "      <td>6</td>\n",
              "      <td>7/1/2019</td>\n",
              "      <td>male</td>\n",
              "      <td>100.0</td>\n",
              "      <td>white</td>\n",
              "      <td>0.0</td>\n",
              "      <td>vanilla</td>\n",
              "      <td>yes</td>\n",
              "      <td>&lt;50K</td>\n",
              "      <td>yes</td>\n",
              "      <td>9</td>\n",
              "    </tr>\n",
              "    <tr>\n",
              "      <th>6</th>\n",
              "      <td>7</td>\n",
              "      <td>7/1/2019</td>\n",
              "      <td>female</td>\n",
              "      <td>100.0</td>\n",
              "      <td>blue</td>\n",
              "      <td>2.0</td>\n",
              "      <td>vanilla</td>\n",
              "      <td>yes</td>\n",
              "      <td>&lt;50K</td>\n",
              "      <td>yes</td>\n",
              "      <td>5</td>\n",
              "    </tr>\n",
              "    <tr>\n",
              "      <th>7</th>\n",
              "      <td>8</td>\n",
              "      <td>7/1/2019</td>\n",
              "      <td>female</td>\n",
              "      <td>100.0</td>\n",
              "      <td>black</td>\n",
              "      <td>5.0</td>\n",
              "      <td>vanilla</td>\n",
              "      <td>yes</td>\n",
              "      <td>&lt;50K</td>\n",
              "      <td>yes</td>\n",
              "      <td>9</td>\n",
              "    </tr>\n",
              "    <tr>\n",
              "      <th>8</th>\n",
              "      <td>9</td>\n",
              "      <td>7/1/2019</td>\n",
              "      <td>male</td>\n",
              "      <td>100.0</td>\n",
              "      <td>blue</td>\n",
              "      <td>2.0</td>\n",
              "      <td>vanilla</td>\n",
              "      <td>yes</td>\n",
              "      <td>&lt;50K</td>\n",
              "      <td>yes</td>\n",
              "      <td>7</td>\n",
              "    </tr>\n",
              "    <tr>\n",
              "      <th>9</th>\n",
              "      <td>10</td>\n",
              "      <td>7/1/2019</td>\n",
              "      <td>male</td>\n",
              "      <td>100.0</td>\n",
              "      <td>no preference</td>\n",
              "      <td>1.0</td>\n",
              "      <td>vanilla</td>\n",
              "      <td>yes</td>\n",
              "      <td>&lt;50K</td>\n",
              "      <td>yes</td>\n",
              "      <td>5</td>\n",
              "    </tr>\n",
              "  </tbody>\n",
              "</table>\n",
              "</div>\n",
              "      <button class=\"colab-df-convert\" onclick=\"convertToInteractive('df-f7f7ec37-2012-4d62-b4b0-d6e448c3ccf6')\"\n",
              "              title=\"Convert this dataframe to an interactive table.\"\n",
              "              style=\"display:none;\">\n",
              "        \n",
              "  <svg xmlns=\"http://www.w3.org/2000/svg\" height=\"24px\"viewBox=\"0 0 24 24\"\n",
              "       width=\"24px\">\n",
              "    <path d=\"M0 0h24v24H0V0z\" fill=\"none\"/>\n",
              "    <path d=\"M18.56 5.44l.94 2.06.94-2.06 2.06-.94-2.06-.94-.94-2.06-.94 2.06-2.06.94zm-11 1L8.5 8.5l.94-2.06 2.06-.94-2.06-.94L8.5 2.5l-.94 2.06-2.06.94zm10 10l.94 2.06.94-2.06 2.06-.94-2.06-.94-.94-2.06-.94 2.06-2.06.94z\"/><path d=\"M17.41 7.96l-1.37-1.37c-.4-.4-.92-.59-1.43-.59-.52 0-1.04.2-1.43.59L10.3 9.45l-7.72 7.72c-.78.78-.78 2.05 0 2.83L4 21.41c.39.39.9.59 1.41.59.51 0 1.02-.2 1.41-.59l7.78-7.78 2.81-2.81c.8-.78.8-2.07 0-2.86zM5.41 20L4 18.59l7.72-7.72 1.47 1.35L5.41 20z\"/>\n",
              "  </svg>\n",
              "      </button>\n",
              "      \n",
              "  <style>\n",
              "    .colab-df-container {\n",
              "      display:flex;\n",
              "      flex-wrap:wrap;\n",
              "      gap: 12px;\n",
              "    }\n",
              "\n",
              "    .colab-df-convert {\n",
              "      background-color: #E8F0FE;\n",
              "      border: none;\n",
              "      border-radius: 50%;\n",
              "      cursor: pointer;\n",
              "      display: none;\n",
              "      fill: #1967D2;\n",
              "      height: 32px;\n",
              "      padding: 0 0 0 0;\n",
              "      width: 32px;\n",
              "    }\n",
              "\n",
              "    .colab-df-convert:hover {\n",
              "      background-color: #E2EBFA;\n",
              "      box-shadow: 0px 1px 2px rgba(60, 64, 67, 0.3), 0px 1px 3px 1px rgba(60, 64, 67, 0.15);\n",
              "      fill: #174EA6;\n",
              "    }\n",
              "\n",
              "    [theme=dark] .colab-df-convert {\n",
              "      background-color: #3B4455;\n",
              "      fill: #D2E3FC;\n",
              "    }\n",
              "\n",
              "    [theme=dark] .colab-df-convert:hover {\n",
              "      background-color: #434B5C;\n",
              "      box-shadow: 0px 1px 3px 1px rgba(0, 0, 0, 0.15);\n",
              "      filter: drop-shadow(0px 1px 2px rgba(0, 0, 0, 0.3));\n",
              "      fill: #FFFFFF;\n",
              "    }\n",
              "  </style>\n",
              "\n",
              "      <script>\n",
              "        const buttonEl =\n",
              "          document.querySelector('#df-f7f7ec37-2012-4d62-b4b0-d6e448c3ccf6 button.colab-df-convert');\n",
              "        buttonEl.style.display =\n",
              "          google.colab.kernel.accessAllowed ? 'block' : 'none';\n",
              "\n",
              "        async function convertToInteractive(key) {\n",
              "          const element = document.querySelector('#df-f7f7ec37-2012-4d62-b4b0-d6e448c3ccf6');\n",
              "          const dataTable =\n",
              "            await google.colab.kernel.invokeFunction('convertToInteractive',\n",
              "                                                     [key], {});\n",
              "          if (!dataTable) return;\n",
              "\n",
              "          const docLinkHtml = 'Like what you see? Visit the ' +\n",
              "            '<a target=\"_blank\" href=https://colab.research.google.com/notebooks/data_table.ipynb>data table notebook</a>'\n",
              "            + ' to learn more about interactive tables.';\n",
              "          element.innerHTML = '';\n",
              "          dataTable['output_type'] = 'display_data';\n",
              "          await google.colab.output.renderOutput(dataTable, element);\n",
              "          const docLink = document.createElement('div');\n",
              "          docLink.innerHTML = docLinkHtml;\n",
              "          element.appendChild(docLink);\n",
              "        }\n",
              "      </script>\n",
              "    </div>\n",
              "  </div>\n",
              "  "
            ]
          },
          "metadata": {},
          "execution_count": 110
        }
      ]
    },
    {
      "cell_type": "markdown",
      "source": [
        "Checking for NA values"
      ],
      "metadata": {
        "id": "FTkH81RESXkh"
      }
    },
    {
      "cell_type": "code",
      "source": [
        "ic.isna().sum()"
      ],
      "metadata": {
        "colab": {
          "base_uri": "https://localhost:8080/"
        },
        "id": "GIMRjUJ0MuJx",
        "outputId": "c59a4075-f8ce-4b5b-d277-8c905adf3cb6"
      },
      "execution_count": 111,
      "outputs": [
        {
          "output_type": "execute_result",
          "data": {
            "text/plain": [
              "Donate ID                                  0\n",
              "Donate Date                                0\n",
              "Gender                                     0\n",
              "Deposit Amount                            40\n",
              "Preferred Color of Device                  0\n",
              "Ice Cream Products Consumed Per Week     104\n",
              "Favorite Flavor Of Ice Cream               0\n",
              "Donated To Kick Starter Before             0\n",
              "Household Income                        4801\n",
              "Do you own a Keurig                        0\n",
              "How many desserts do you eat a week        0\n",
              "dtype: int64"
            ]
          },
          "metadata": {},
          "execution_count": 111
        }
      ]
    },
    {
      "cell_type": "markdown",
      "source": [
        "Summary of the Data"
      ],
      "metadata": {
        "id": "44ik2RzuSgs4"
      }
    },
    {
      "cell_type": "code",
      "source": [
        "ic.describe()"
      ],
      "metadata": {
        "colab": {
          "base_uri": "https://localhost:8080/",
          "height": 300
        },
        "id": "V06vSThUSj0b",
        "outputId": "cf67084b-c83f-4d44-8b8e-0c1d2745ef3d"
      },
      "execution_count": 112,
      "outputs": [
        {
          "output_type": "execute_result",
          "data": {
            "text/plain": [
              "         Donate ID  Deposit Amount  Ice Cream Products Consumed Per Week  \\\n",
              "count  10000.00000     9960.000000                           9896.000000   \n",
              "mean    5000.50000      141.069980                              4.968876   \n",
              "std     2886.89568      127.223283                              3.175296   \n",
              "min        1.00000      100.000000                              0.000000   \n",
              "25%     2500.75000      100.000000                              2.000000   \n",
              "50%     5000.50000      100.000000                              5.000000   \n",
              "75%     7500.25000      120.000000                              8.000000   \n",
              "max    10000.00000    10000.000000                             10.000000   \n",
              "\n",
              "       How many desserts do you eat a week  \n",
              "count                         10000.000000  \n",
              "mean                              5.060700  \n",
              "std                               2.897008  \n",
              "min                               0.000000  \n",
              "25%                               3.000000  \n",
              "50%                               5.000000  \n",
              "75%                               7.000000  \n",
              "max                             100.000000  "
            ],
            "text/html": [
              "\n",
              "  <div id=\"df-c10e422a-1db3-4102-9b2e-3778b052f8c0\">\n",
              "    <div class=\"colab-df-container\">\n",
              "      <div>\n",
              "<style scoped>\n",
              "    .dataframe tbody tr th:only-of-type {\n",
              "        vertical-align: middle;\n",
              "    }\n",
              "\n",
              "    .dataframe tbody tr th {\n",
              "        vertical-align: top;\n",
              "    }\n",
              "\n",
              "    .dataframe thead th {\n",
              "        text-align: right;\n",
              "    }\n",
              "</style>\n",
              "<table border=\"1\" class=\"dataframe\">\n",
              "  <thead>\n",
              "    <tr style=\"text-align: right;\">\n",
              "      <th></th>\n",
              "      <th>Donate ID</th>\n",
              "      <th>Deposit Amount</th>\n",
              "      <th>Ice Cream Products Consumed Per Week</th>\n",
              "      <th>How many desserts do you eat a week</th>\n",
              "    </tr>\n",
              "  </thead>\n",
              "  <tbody>\n",
              "    <tr>\n",
              "      <th>count</th>\n",
              "      <td>10000.00000</td>\n",
              "      <td>9960.000000</td>\n",
              "      <td>9896.000000</td>\n",
              "      <td>10000.000000</td>\n",
              "    </tr>\n",
              "    <tr>\n",
              "      <th>mean</th>\n",
              "      <td>5000.50000</td>\n",
              "      <td>141.069980</td>\n",
              "      <td>4.968876</td>\n",
              "      <td>5.060700</td>\n",
              "    </tr>\n",
              "    <tr>\n",
              "      <th>std</th>\n",
              "      <td>2886.89568</td>\n",
              "      <td>127.223283</td>\n",
              "      <td>3.175296</td>\n",
              "      <td>2.897008</td>\n",
              "    </tr>\n",
              "    <tr>\n",
              "      <th>min</th>\n",
              "      <td>1.00000</td>\n",
              "      <td>100.000000</td>\n",
              "      <td>0.000000</td>\n",
              "      <td>0.000000</td>\n",
              "    </tr>\n",
              "    <tr>\n",
              "      <th>25%</th>\n",
              "      <td>2500.75000</td>\n",
              "      <td>100.000000</td>\n",
              "      <td>2.000000</td>\n",
              "      <td>3.000000</td>\n",
              "    </tr>\n",
              "    <tr>\n",
              "      <th>50%</th>\n",
              "      <td>5000.50000</td>\n",
              "      <td>100.000000</td>\n",
              "      <td>5.000000</td>\n",
              "      <td>5.000000</td>\n",
              "    </tr>\n",
              "    <tr>\n",
              "      <th>75%</th>\n",
              "      <td>7500.25000</td>\n",
              "      <td>120.000000</td>\n",
              "      <td>8.000000</td>\n",
              "      <td>7.000000</td>\n",
              "    </tr>\n",
              "    <tr>\n",
              "      <th>max</th>\n",
              "      <td>10000.00000</td>\n",
              "      <td>10000.000000</td>\n",
              "      <td>10.000000</td>\n",
              "      <td>100.000000</td>\n",
              "    </tr>\n",
              "  </tbody>\n",
              "</table>\n",
              "</div>\n",
              "      <button class=\"colab-df-convert\" onclick=\"convertToInteractive('df-c10e422a-1db3-4102-9b2e-3778b052f8c0')\"\n",
              "              title=\"Convert this dataframe to an interactive table.\"\n",
              "              style=\"display:none;\">\n",
              "        \n",
              "  <svg xmlns=\"http://www.w3.org/2000/svg\" height=\"24px\"viewBox=\"0 0 24 24\"\n",
              "       width=\"24px\">\n",
              "    <path d=\"M0 0h24v24H0V0z\" fill=\"none\"/>\n",
              "    <path d=\"M18.56 5.44l.94 2.06.94-2.06 2.06-.94-2.06-.94-.94-2.06-.94 2.06-2.06.94zm-11 1L8.5 8.5l.94-2.06 2.06-.94-2.06-.94L8.5 2.5l-.94 2.06-2.06.94zm10 10l.94 2.06.94-2.06 2.06-.94-2.06-.94-.94-2.06-.94 2.06-2.06.94z\"/><path d=\"M17.41 7.96l-1.37-1.37c-.4-.4-.92-.59-1.43-.59-.52 0-1.04.2-1.43.59L10.3 9.45l-7.72 7.72c-.78.78-.78 2.05 0 2.83L4 21.41c.39.39.9.59 1.41.59.51 0 1.02-.2 1.41-.59l7.78-7.78 2.81-2.81c.8-.78.8-2.07 0-2.86zM5.41 20L4 18.59l7.72-7.72 1.47 1.35L5.41 20z\"/>\n",
              "  </svg>\n",
              "      </button>\n",
              "      \n",
              "  <style>\n",
              "    .colab-df-container {\n",
              "      display:flex;\n",
              "      flex-wrap:wrap;\n",
              "      gap: 12px;\n",
              "    }\n",
              "\n",
              "    .colab-df-convert {\n",
              "      background-color: #E8F0FE;\n",
              "      border: none;\n",
              "      border-radius: 50%;\n",
              "      cursor: pointer;\n",
              "      display: none;\n",
              "      fill: #1967D2;\n",
              "      height: 32px;\n",
              "      padding: 0 0 0 0;\n",
              "      width: 32px;\n",
              "    }\n",
              "\n",
              "    .colab-df-convert:hover {\n",
              "      background-color: #E2EBFA;\n",
              "      box-shadow: 0px 1px 2px rgba(60, 64, 67, 0.3), 0px 1px 3px 1px rgba(60, 64, 67, 0.15);\n",
              "      fill: #174EA6;\n",
              "    }\n",
              "\n",
              "    [theme=dark] .colab-df-convert {\n",
              "      background-color: #3B4455;\n",
              "      fill: #D2E3FC;\n",
              "    }\n",
              "\n",
              "    [theme=dark] .colab-df-convert:hover {\n",
              "      background-color: #434B5C;\n",
              "      box-shadow: 0px 1px 3px 1px rgba(0, 0, 0, 0.15);\n",
              "      filter: drop-shadow(0px 1px 2px rgba(0, 0, 0, 0.3));\n",
              "      fill: #FFFFFF;\n",
              "    }\n",
              "  </style>\n",
              "\n",
              "      <script>\n",
              "        const buttonEl =\n",
              "          document.querySelector('#df-c10e422a-1db3-4102-9b2e-3778b052f8c0 button.colab-df-convert');\n",
              "        buttonEl.style.display =\n",
              "          google.colab.kernel.accessAllowed ? 'block' : 'none';\n",
              "\n",
              "        async function convertToInteractive(key) {\n",
              "          const element = document.querySelector('#df-c10e422a-1db3-4102-9b2e-3778b052f8c0');\n",
              "          const dataTable =\n",
              "            await google.colab.kernel.invokeFunction('convertToInteractive',\n",
              "                                                     [key], {});\n",
              "          if (!dataTable) return;\n",
              "\n",
              "          const docLinkHtml = 'Like what you see? Visit the ' +\n",
              "            '<a target=\"_blank\" href=https://colab.research.google.com/notebooks/data_table.ipynb>data table notebook</a>'\n",
              "            + ' to learn more about interactive tables.';\n",
              "          element.innerHTML = '';\n",
              "          dataTable['output_type'] = 'display_data';\n",
              "          await google.colab.output.renderOutput(dataTable, element);\n",
              "          const docLink = document.createElement('div');\n",
              "          docLink.innerHTML = docLinkHtml;\n",
              "          element.appendChild(docLink);\n",
              "        }\n",
              "      </script>\n",
              "    </div>\n",
              "  </div>\n",
              "  "
            ]
          },
          "metadata": {},
          "execution_count": 112
        }
      ]
    },
    {
      "cell_type": "markdown",
      "source": [
        "# Cleaning the Data"
      ],
      "metadata": {
        "id": "liNFKJsNUAnH"
      }
    },
    {
      "cell_type": "code",
      "source": [
        "hdes = ic['How many desserts do you eat a week']\n",
        "plt.boxplot(hdes)\n",
        "plt.xlabel('Dessert')\n",
        "plt.ylabel('Count')\n",
        "plt.title('Boxplot:How many desserts do you eat a week')\n",
        "plt.show()"
      ],
      "metadata": {
        "colab": {
          "base_uri": "https://localhost:8080/",
          "height": 295
        },
        "id": "e73_aP6GO32v",
        "outputId": "755daf38-6313-4388-bf9f-3d1aef2e1884"
      },
      "execution_count": 113,
      "outputs": [
        {
          "output_type": "display_data",
          "data": {
            "text/plain": [
              "<Figure size 432x288 with 1 Axes>"
            ],
            "image/png": "[encoded data removed]"
          },
          "metadata": {}
        }
      ]
    },
    {
      "cell_type": "code",
      "source": [
        "ic.describe()"
      ],
      "metadata": {
        "colab": {
          "base_uri": "https://localhost:8080/",
          "height": 300
        },
        "id": "a6QNkCrBp7rr",
        "outputId": "d46b7151-57bf-4d57-99de-20d5601c0a15"
      },
      "execution_count": 114,
      "outputs": [
        {
          "output_type": "execute_result",
          "data": {
            "text/plain": [
              "         Donate ID  Deposit Amount  Ice Cream Products Consumed Per Week  \\\n",
              "count  10000.00000     9960.000000                           9896.000000   \n",
              "mean    5000.50000      141.069980                              4.968876   \n",
              "std     2886.89568      127.223283                              3.175296   \n",
              "min        1.00000      100.000000                              0.000000   \n",
              "25%     2500.75000      100.000000                              2.000000   \n",
              "50%     5000.50000      100.000000                              5.000000   \n",
              "75%     7500.25000      120.000000                              8.000000   \n",
              "max    10000.00000    10000.000000                             10.000000   \n",
              "\n",
              "       How many desserts do you eat a week  \n",
              "count                         10000.000000  \n",
              "mean                              5.060700  \n",
              "std                               2.897008  \n",
              "min                               0.000000  \n",
              "25%                               3.000000  \n",
              "50%                               5.000000  \n",
              "75%                               7.000000  \n",
              "max                             100.000000  "
            ],
            "text/html": [
              "\n",
              "  <div id=\"df-9589dc93-7f13-45f9-addb-8fb23b18ae9a\">\n",
              "    <div class=\"colab-df-container\">\n",
              "      <div>\n",
              "<style scoped>\n",
              "    .dataframe tbody tr th:only-of-type {\n",
              "        vertical-align: middle;\n",
              "    }\n",
              "\n",
              "    .dataframe tbody tr th {\n",
              "        vertical-align: top;\n",
              "    }\n",
              "\n",
              "    .dataframe thead th {\n",
              "        text-align: right;\n",
              "    }\n",
              "</style>\n",
              "<table border=\"1\" class=\"dataframe\">\n",
              "  <thead>\n",
              "    <tr style=\"text-align: right;\">\n",
              "      <th></th>\n",
              "      <th>Donate ID</th>\n",
              "      <th>Deposit Amount</th>\n",
              "      <th>Ice Cream Products Consumed Per Week</th>\n",
              "      <th>How many desserts do you eat a week</th>\n",
              "    </tr>\n",
              "  </thead>\n",
              "  <tbody>\n",
              "    <tr>\n",
              "      <th>count</th>\n",
              "      <td>10000.00000</td>\n",
              "      <td>9960.000000</td>\n",
              "      <td>9896.000000</td>\n",
              "      <td>10000.000000</td>\n",
              "    </tr>\n",
              "    <tr>\n",
              "      <th>mean</th>\n",
              "      <td>5000.50000</td>\n",
              "      <td>141.069980</td>\n",
              "      <td>4.968876</td>\n",
              "      <td>5.060700</td>\n",
              "    </tr>\n",
              "    <tr>\n",
              "      <th>std</th>\n",
              "      <td>2886.89568</td>\n",
              "      <td>127.223283</td>\n",
              "      <td>3.175296</td>\n",
              "      <td>2.897008</td>\n",
              "    </tr>\n",
              "    <tr>\n",
              "      <th>min</th>\n",
              "      <td>1.00000</td>\n",
              "      <td>100.000000</td>\n",
              "      <td>0.000000</td>\n",
              "      <td>0.000000</td>\n",
              "    </tr>\n",
              "    <tr>\n",
              "      <th>25%</th>\n",
              "      <td>2500.75000</td>\n",
              "      <td>100.000000</td>\n",
              "      <td>2.000000</td>\n",
              "      <td>3.000000</td>\n",
              "    </tr>\n",
              "    <tr>\n",
              "      <th>50%</th>\n",
              "      <td>5000.50000</td>\n",
              "      <td>100.000000</td>\n",
              "      <td>5.000000</td>\n",
              "      <td>5.000000</td>\n",
              "    </tr>\n",
              "    <tr>\n",
              "      <th>75%</th>\n",
              "      <td>7500.25000</td>\n",
              "      <td>120.000000</td>\n",
              "      <td>8.000000</td>\n",
              "      <td>7.000000</td>\n",
              "    </tr>\n",
              "    <tr>\n",
              "      <th>max</th>\n",
              "      <td>10000.00000</td>\n",
              "      <td>10000.000000</td>\n",
              "      <td>10.000000</td>\n",
              "      <td>100.000000</td>\n",
              "    </tr>\n",
              "  </tbody>\n",
              "</table>\n",
              "</div>\n",
              "      <button class=\"colab-df-convert\" onclick=\"convertToInteractive('df-9589dc93-7f13-45f9-addb-8fb23b18ae9a')\"\n",
              "              title=\"Convert this dataframe to an interactive table.\"\n",
              "              style=\"display:none;\">\n",
              "        \n",
              "  <svg xmlns=\"http://www.w3.org/2000/svg\" height=\"24px\"viewBox=\"0 0 24 24\"\n",
              "       width=\"24px\">\n",
              "    <path d=\"M0 0h24v24H0V0z\" fill=\"none\"/>\n",
              "    <path d=\"M18.56 5.44l.94 2.06.94-2.06 2.06-.94-2.06-.94-.94-2.06-.94 2.06-2.06.94zm-11 1L8.5 8.5l.94-2.06 2.06-.94-2.06-.94L8.5 2.5l-.94 2.06-2.06.94zm10 10l.94 2.06.94-2.06 2.06-.94-2.06-.94-.94-2.06-.94 2.06-2.06.94z\"/><path d=\"M17.41 7.96l-1.37-1.37c-.4-.4-.92-.59-1.43-.59-.52 0-1.04.2-1.43.59L10.3 9.45l-7.72 7.72c-.78.78-.78 2.05 0 2.83L4 21.41c.39.39.9.59 1.41.59.51 0 1.02-.2 1.41-.59l7.78-7.78 2.81-2.81c.8-.78.8-2.07 0-2.86zM5.41 20L4 18.59l7.72-7.72 1.47 1.35L5.41 20z\"/>\n",
              "  </svg>\n",
              "      </button>\n",
              "      \n",
              "  <style>\n",
              "    .colab-df-container {\n",
              "      display:flex;\n",
              "      flex-wrap:wrap;\n",
              "      gap: 12px;\n",
              "    }\n",
              "\n",
              "    .colab-df-convert {\n",
              "      background-color: #E8F0FE;\n",
              "      border: none;\n",
              "      border-radius: 50%;\n",
              "      cursor: pointer;\n",
              "      display: none;\n",
              "      fill: #1967D2;\n",
              "      height: 32px;\n",
              "      padding: 0 0 0 0;\n",
              "      width: 32px;\n",
              "    }\n",
              "\n",
              "    .colab-df-convert:hover {\n",
              "      background-color: #E2EBFA;\n",
              "      box-shadow: 0px 1px 2px rgba(60, 64, 67, 0.3), 0px 1px 3px 1px rgba(60, 64, 67, 0.15);\n",
              "      fill: #174EA6;\n",
              "    }\n",
              "\n",
              "    [theme=dark] .colab-df-convert {\n",
              "      background-color: #3B4455;\n",
              "      fill: #D2E3FC;\n",
              "    }\n",
              "\n",
              "    [theme=dark] .colab-df-convert:hover {\n",
              "      background-color: #434B5C;\n",
              "      box-shadow: 0px 1px 3px 1px rgba(0, 0, 0, 0.15);\n",
              "      filter: drop-shadow(0px 1px 2px rgba(0, 0, 0, 0.3));\n",
              "      fill: #FFFFFF;\n",
              "    }\n",
              "  </style>\n",
              "\n",
              "      <script>\n",
              "        const buttonEl =\n",
              "          document.querySelector('#df-9589dc93-7f13-45f9-addb-8fb23b18ae9a button.colab-df-convert');\n",
              "        buttonEl.style.display =\n",
              "          google.colab.kernel.accessAllowed ? 'block' : 'none';\n",
              "\n",
              "        async function convertToInteractive(key) {\n",
              "          const element = document.querySelector('#df-9589dc93-7f13-45f9-addb-8fb23b18ae9a');\n",
              "          const dataTable =\n",
              "            await google.colab.kernel.invokeFunction('convertToInteractive',\n",
              "                                                     [key], {});\n",
              "          if (!dataTable) return;\n",
              "\n",
              "          const docLinkHtml = 'Like what you see? Visit the ' +\n",
              "            '<a target=\"_blank\" href=https://colab.research.google.com/notebooks/data_table.ipynb>data table notebook</a>'\n",
              "            + ' to learn more about interactive tables.';\n",
              "          element.innerHTML = '';\n",
              "          dataTable['output_type'] = 'display_data';\n",
              "          await google.colab.output.renderOutput(dataTable, element);\n",
              "          const docLink = document.createElement('div');\n",
              "          docLink.innerHTML = docLinkHtml;\n",
              "          element.appendChild(docLink);\n",
              "        }\n",
              "      </script>\n",
              "    </div>\n",
              "  </div>\n",
              "  "
            ]
          },
          "metadata": {},
          "execution_count": 114
        }
      ]
    },
    {
      "cell_type": "markdown",
      "source": [
        "Removing the outliers by eliminating the observation from the study"
      ],
      "metadata": {
        "id": "8g7vlOfePN3O"
      }
    },
    {
      "cell_type": "code",
      "source": [
        "nic = ic[ic['Deposit Amount'] != 10000]\n",
        "nic = nic[nic['How many desserts do you eat a week'] != 100]\n",
        "nic.shape"
      ],
      "metadata": {
        "id": "7BE6P1YkUJLq",
        "colab": {
          "base_uri": "https://localhost:8080/"
        },
        "outputId": "82c604e6-dbc0-4f8c-b01b-d93753cdc3c0"
      },
      "execution_count": 115,
      "outputs": [
        {
          "output_type": "execute_result",
          "data": {
            "text/plain": [
              "(9998, 11)"
            ]
          },
          "metadata": {},
          "execution_count": 115
        }
      ]
    },
    {
      "cell_type": "code",
      "source": [
        "dep = nic['Deposit Amount']\n"
      ],
      "metadata": {
        "id": "MuUYCWtNq4lH"
      },
      "execution_count": 116,
      "outputs": []
    },
    {
      "cell_type": "markdown",
      "source": [
        "Viewing Deposit amount distribution using histogram"
      ],
      "metadata": {
        "id": "JS45axu-ORWg"
      }
    },
    {
      "cell_type": "code",
      "source": [
        "n, bins, patches = plt.hist(x = dep, bins=5, alpha=0.7, rwidth=0.85, range=(100, 400))\n",
        "plt.grid(axis='y', alpha=0.75)\n",
        "plt.xlabel('Amount Range')\n",
        "plt.ylabel('Frequency')\n",
        "plt.title('Histogram: Deposit Amount')\n",
        "plt.plot()"
      ],
      "metadata": {
        "colab": {
          "base_uri": "https://localhost:8080/",
          "height": 313
        },
        "id": "g4u5RcpUi7ca",
        "outputId": "e78157cf-3d0e-441d-a3d9-57543d17eee7"
      },
      "execution_count": 117,
      "outputs": [
        {
          "output_type": "execute_result",
          "data": {
            "text/plain": [
              "[]"
            ]
          },
          "metadata": {},
          "execution_count": 117
        },
        {
          "output_type": "display_data",
          "data": {
            "text/plain": [
              "<Figure size 432x288 with 1 Axes>"
            ],
            "image/png": "[encoded data removed]"
          },
          "metadata": {}
        }
      ]
    },
    {
      "cell_type": "markdown",
      "source": [
        "Populating null values using mean"
      ],
      "metadata": {
        "id": "lggofgsSObVZ"
      }
    },
    {
      "cell_type": "code",
      "source": [
        "nic['Deposit Amount'] = nic['Deposit Amount'].fillna(nic['Deposit Amount'].mean())\n",
        "nic.isna().sum()"
      ],
      "metadata": {
        "colab": {
          "base_uri": "https://localhost:8080/"
        },
        "id": "NGjDUE69wCRC",
        "outputId": "8c8e5d3b-42de-4151-acab-52c2d3587bba"
      },
      "execution_count": 118,
      "outputs": [
        {
          "output_type": "execute_result",
          "data": {
            "text/plain": [
              "Donate ID                                  0\n",
              "Donate Date                                0\n",
              "Gender                                     0\n",
              "Deposit Amount                             0\n",
              "Preferred Color of Device                  0\n",
              "Ice Cream Products Consumed Per Week     104\n",
              "Favorite Flavor Of Ice Cream               0\n",
              "Donated To Kick Starter Before             0\n",
              "Household Income                        4800\n",
              "Do you own a Keurig                        0\n",
              "How many desserts do you eat a week        0\n",
              "dtype: int64"
            ]
          },
          "metadata": {},
          "execution_count": 118
        }
      ]
    },
    {
      "cell_type": "markdown",
      "source": [
        "Viewing distribution of Ice cream products consumed per week using histogram"
      ],
      "metadata": {
        "id": "wvamZqe6Og_X"
      }
    },
    {
      "cell_type": "code",
      "source": [
        "cons = nic['Ice Cream Products Consumed Per Week']\n",
        "plt.hist(cons, alpha=0.7, rwidth=0.85, range=(0, 10))\n",
        "plt.grid(axis='y', alpha=0.75)\n",
        "plt.xlabel('Count of Ice Cream')\n",
        "plt.ylabel('Frequency')\n",
        "plt.title('Histogram:Ice Cream Products Consumed Per Week')\n",
        "plt.plot()"
      ],
      "metadata": {
        "colab": {
          "base_uri": "https://localhost:8080/",
          "height": 313
        },
        "id": "4FE--9-06L4e",
        "outputId": "ccdca304-8161-40f9-e366-e4b692ff782d"
      },
      "execution_count": 119,
      "outputs": [
        {
          "output_type": "execute_result",
          "data": {
            "text/plain": [
              "[]"
            ]
          },
          "metadata": {},
          "execution_count": 119
        },
        {
          "output_type": "display_data",
          "data": {
            "text/plain": [
              "<Figure size 432x288 with 1 Axes>"
            ],
            "image/png": "[encoded data removed]"
          },
          "metadata": {}
        }
      ]
    },
    {
      "cell_type": "markdown",
      "source": [
        "Populating the Null values with Medain of the distribution"
      ],
      "metadata": {
        "id": "Z616jrP0On0E"
      }
    },
    {
      "cell_type": "code",
      "source": [
        "nic['Ice Cream Products Consumed Per Week'] = nic['Ice Cream Products Consumed Per Week'].fillna(nic['Ice Cream Products Consumed Per Week'].median())\n",
        "nic.isna().sum()"
      ],
      "metadata": {
        "colab": {
          "base_uri": "https://localhost:8080/"
        },
        "id": "OEStAzbM6e_s",
        "outputId": "52659302-b35c-4cd5-d4e6-6b4fff59e1bf"
      },
      "execution_count": 120,
      "outputs": [
        {
          "output_type": "execute_result",
          "data": {
            "text/plain": [
              "Donate ID                                  0\n",
              "Donate Date                                0\n",
              "Gender                                     0\n",
              "Deposit Amount                             0\n",
              "Preferred Color of Device                  0\n",
              "Ice Cream Products Consumed Per Week       0\n",
              "Favorite Flavor Of Ice Cream               0\n",
              "Donated To Kick Starter Before             0\n",
              "Household Income                        4800\n",
              "Do you own a Keurig                        0\n",
              "How many desserts do you eat a week        0\n",
              "dtype: int64"
            ]
          },
          "metadata": {},
          "execution_count": 120
        }
      ]
    },
    {
      "cell_type": "code",
      "source": [
        "ncons = nic['Ice Cream Products Consumed Per Week']\n",
        "plt.hist(ncons)\n",
        "plt.plot()"
      ],
      "metadata": {
        "colab": {
          "base_uri": "https://localhost:8080/",
          "height": 284
        },
        "id": "EJMLhWUn7GLM",
        "outputId": "39de32db-74cc-4842-c8ce-5d7d70f2cd6d"
      },
      "execution_count": 121,
      "outputs": [
        {
          "output_type": "execute_result",
          "data": {
            "text/plain": [
              "[]"
            ]
          },
          "metadata": {},
          "execution_count": 121
        },
        {
          "output_type": "display_data",
          "data": {
            "text/plain": [
              "<Figure size 432x288 with 1 Axes>"
            ],
            "image/png": "[encoded data removed]"
          },
          "metadata": {}
        }
      ]
    },
    {
      "cell_type": "markdown",
      "source": [
        "Viewing the How many desserts do you eat a week column"
      ],
      "metadata": {
        "id": "BXB1JyR3Pe7b"
      }
    },
    {
      "cell_type": "code",
      "source": [
        "ndes = nic['How many desserts do you eat a week']\n",
        "plt.boxplot(ndes)\n",
        "plt.xlabel('Dessert')\n",
        "plt.ylabel('Count')\n",
        "plt.title('Boxplot:How many desserts do you eat a week')\n",
        "plt.show()"
      ],
      "metadata": {
        "colab": {
          "base_uri": "https://localhost:8080/",
          "height": 295
        },
        "id": "UR2yk-zkI7g9",
        "outputId": "c46c3564-ba99-4f23-e818-b2babf33face"
      },
      "execution_count": 122,
      "outputs": [
        {
          "output_type": "display_data",
          "data": {
            "text/plain": [
              "<Figure size 432x288 with 1 Axes>"
            ],
            "image/png": "[encoded data removed]"
          },
          "metadata": {}
        }
      ]
    },
    {
      "cell_type": "markdown",
      "source": [
        "Visualizing the Deposit amount based on Household income distributed based on gender to form a logic for handling the missing values of Household income"
      ],
      "metadata": {
        "id": "gnGUjwmzPkq0"
      }
    },
    {
      "cell_type": "code",
      "source": [
        "sb.barplot(x = nic['Household Income'], y = nic['Deposit Amount'], hue=nic['Gender'], data = nic) "
      ],
      "metadata": {
        "colab": {
          "base_uri": "https://localhost:8080/",
          "height": 297
        },
        "id": "4734yxMw-3m_",
        "outputId": "ffd3a7b8-befe-44e8-a2b3-19182b86770c"
      },
      "execution_count": 123,
      "outputs": [
        {
          "output_type": "execute_result",
          "data": {
            "text/plain": [
              "<matplotlib.axes._subplots.AxesSubplot at 0x7f18dfa3e110>"
            ]
          },
          "metadata": {},
          "execution_count": 123
        },
        {
          "output_type": "display_data",
          "data": {
            "text/plain": [
              "<Figure size 432x288 with 1 Axes>"
            ],
            "image/png": "[encoded data removed]"
          },
          "metadata": {}
        }
      ]
    },
    {
      "cell_type": "markdown",
      "source": [
        "Handlling the missing values"
      ],
      "metadata": {
        "id": "izQILzcuP8fx"
      }
    },
    {
      "cell_type": "code",
      "source": [
        "s = nic['Deposit Amount'] <= 101\n",
        "nic['Household Income'] = nic['Household Income'].fillna(s.map({True: '<50K', False: '>100K'}))"
      ],
      "metadata": {
        "id": "pfa6eV5fLzWo"
      },
      "execution_count": 124,
      "outputs": []
    },
    {
      "cell_type": "code",
      "source": [
        "nic.isna().sum()"
      ],
      "metadata": {
        "colab": {
          "base_uri": "https://localhost:8080/"
        },
        "id": "-ZdMEilaYE4z",
        "outputId": "29f8d2c2-fbaa-497a-fcb1-7322f0ddb371"
      },
      "execution_count": 125,
      "outputs": [
        {
          "output_type": "execute_result",
          "data": {
            "text/plain": [
              "Donate ID                               0\n",
              "Donate Date                             0\n",
              "Gender                                  0\n",
              "Deposit Amount                          0\n",
              "Preferred Color of Device               0\n",
              "Ice Cream Products Consumed Per Week    0\n",
              "Favorite Flavor Of Ice Cream            0\n",
              "Donated To Kick Starter Before          0\n",
              "Household Income                        0\n",
              "Do you own a Keurig                     0\n",
              "How many desserts do you eat a week     0\n",
              "dtype: int64"
            ]
          },
          "metadata": {},
          "execution_count": 125
        }
      ]
    },
    {
      "cell_type": "markdown",
      "source": [
        "Frequency table for Household income column"
      ],
      "metadata": {
        "id": "aFdXP_MFQBKp"
      }
    },
    {
      "cell_type": "code",
      "source": [
        "pd.crosstab(index = nic['Household Income'], columns='Count')"
      ],
      "metadata": {
        "colab": {
          "base_uri": "https://localhost:8080/",
          "height": 175
        },
        "id": "oFatHSVH_AYd",
        "outputId": "31b53783-2c03-4d00-ca22-9a23ce7cdd41"
      },
      "execution_count": 126,
      "outputs": [
        {
          "output_type": "execute_result",
          "data": {
            "text/plain": [
              "col_0             Count\n",
              "Household Income       \n",
              "<100K              2806\n",
              "<50K               4592\n",
              ">100K              2600"
            ],
            "text/html": [
              "\n",
              "  <div id=\"df-f8cb7e0a-c21a-4098-8739-52d09e6992c5\">\n",
              "    <div class=\"colab-df-container\">\n",
              "      <div>\n",
              "<style scoped>\n",
              "    .dataframe tbody tr th:only-of-type {\n",
              "        vertical-align: middle;\n",
              "    }\n",
              "\n",
              "    .dataframe tbody tr th {\n",
              "        vertical-align: top;\n",
              "    }\n",
              "\n",
              "    .dataframe thead th {\n",
              "        text-align: right;\n",
              "    }\n",
              "</style>\n",
              "<table border=\"1\" class=\"dataframe\">\n",
              "  <thead>\n",
              "    <tr style=\"text-align: right;\">\n",
              "      <th>col_0</th>\n",
              "      <th>Count</th>\n",
              "    </tr>\n",
              "    <tr>\n",
              "      <th>Household Income</th>\n",
              "      <th></th>\n",
              "    </tr>\n",
              "  </thead>\n",
              "  <tbody>\n",
              "    <tr>\n",
              "      <th>&lt;100K</th>\n",
              "      <td>2806</td>\n",
              "    </tr>\n",
              "    <tr>\n",
              "      <th>&lt;50K</th>\n",
              "      <td>4592</td>\n",
              "    </tr>\n",
              "    <tr>\n",
              "      <th>&gt;100K</th>\n",
              "      <td>2600</td>\n",
              "    </tr>\n",
              "  </tbody>\n",
              "</table>\n",
              "</div>\n",
              "      <button class=\"colab-df-convert\" onclick=\"convertToInteractive('df-f8cb7e0a-c21a-4098-8739-52d09e6992c5')\"\n",
              "              title=\"Convert this dataframe to an interactive table.\"\n",
              "              style=\"display:none;\">\n",
              "        \n",
              "  <svg xmlns=\"http://www.w3.org/2000/svg\" height=\"24px\"viewBox=\"0 0 24 24\"\n",
              "       width=\"24px\">\n",
              "    <path d=\"M0 0h24v24H0V0z\" fill=\"none\"/>\n",
              "    <path d=\"M18.56 5.44l.94 2.06.94-2.06 2.06-.94-2.06-.94-.94-2.06-.94 2.06-2.06.94zm-11 1L8.5 8.5l.94-2.06 2.06-.94-2.06-.94L8.5 2.5l-.94 2.06-2.06.94zm10 10l.94 2.06.94-2.06 2.06-.94-2.06-.94-.94-2.06-.94 2.06-2.06.94z\"/><path d=\"M17.41 7.96l-1.37-1.37c-.4-.4-.92-.59-1.43-.59-.52 0-1.04.2-1.43.59L10.3 9.45l-7.72 7.72c-.78.78-.78 2.05 0 2.83L4 21.41c.39.39.9.59 1.41.59.51 0 1.02-.2 1.41-.59l7.78-7.78 2.81-2.81c.8-.78.8-2.07 0-2.86zM5.41 20L4 18.59l7.72-7.72 1.47 1.35L5.41 20z\"/>\n",
              "  </svg>\n",
              "      </button>\n",
              "      \n",
              "  <style>\n",
              "    .colab-df-container {\n",
              "      display:flex;\n",
              "      flex-wrap:wrap;\n",
              "      gap: 12px;\n",
              "    }\n",
              "\n",
              "    .colab-df-convert {\n",
              "      background-color: #E8F0FE;\n",
              "      border: none;\n",
              "      border-radius: 50%;\n",
              "      cursor: pointer;\n",
              "      display: none;\n",
              "      fill: #1967D2;\n",
              "      height: 32px;\n",
              "      padding: 0 0 0 0;\n",
              "      width: 32px;\n",
              "    }\n",
              "\n",
              "    .colab-df-convert:hover {\n",
              "      background-color: #E2EBFA;\n",
              "      box-shadow: 0px 1px 2px rgba(60, 64, 67, 0.3), 0px 1px 3px 1px rgba(60, 64, 67, 0.15);\n",
              "      fill: #174EA6;\n",
              "    }\n",
              "\n",
              "    [theme=dark] .colab-df-convert {\n",
              "      background-color: #3B4455;\n",
              "      fill: #D2E3FC;\n",
              "    }\n",
              "\n",
              "    [theme=dark] .colab-df-convert:hover {\n",
              "      background-color: #434B5C;\n",
              "      box-shadow: 0px 1px 3px 1px rgba(0, 0, 0, 0.15);\n",
              "      filter: drop-shadow(0px 1px 2px rgba(0, 0, 0, 0.3));\n",
              "      fill: #FFFFFF;\n",
              "    }\n",
              "  </style>\n",
              "\n",
              "      <script>\n",
              "        const buttonEl =\n",
              "          document.querySelector('#df-f8cb7e0a-c21a-4098-8739-52d09e6992c5 button.colab-df-convert');\n",
              "        buttonEl.style.display =\n",
              "          google.colab.kernel.accessAllowed ? 'block' : 'none';\n",
              "\n",
              "        async function convertToInteractive(key) {\n",
              "          const element = document.querySelector('#df-f8cb7e0a-c21a-4098-8739-52d09e6992c5');\n",
              "          const dataTable =\n",
              "            await google.colab.kernel.invokeFunction('convertToInteractive',\n",
              "                                                     [key], {});\n",
              "          if (!dataTable) return;\n",
              "\n",
              "          const docLinkHtml = 'Like what you see? Visit the ' +\n",
              "            '<a target=\"_blank\" href=https://colab.research.google.com/notebooks/data_table.ipynb>data table notebook</a>'\n",
              "            + ' to learn more about interactive tables.';\n",
              "          element.innerHTML = '';\n",
              "          dataTable['output_type'] = 'display_data';\n",
              "          await google.colab.output.renderOutput(dataTable, element);\n",
              "          const docLink = document.createElement('div');\n",
              "          docLink.innerHTML = docLinkHtml;\n",
              "          element.appendChild(docLink);\n",
              "        }\n",
              "      </script>\n",
              "    </div>\n",
              "  </div>\n",
              "  "
            ]
          },
          "metadata": {},
          "execution_count": 126
        }
      ]
    },
    {
      "cell_type": "markdown",
      "source": [
        "Visualization for choice of color based on gender"
      ],
      "metadata": {
        "id": "ohEhx95YQaPK"
      }
    },
    {
      "cell_type": "code",
      "source": [
        "plt.figure(figsize=(15,15))\n",
        "ax = sb.countplot (x = nic['Gender'], hue=nic['Preferred Color of Device'], \n",
        "                   data = nic)\n",
        "ax.set_ylim(0,1000)\n",
        "plt.xlabel('Gender')\n",
        "plt.ylabel('Count')\n",
        "plt.title('Bar Plot: Distribution of Color preference w.r.t. Gender')\n",
        "\n",
        "#plt.yticks(np.arange(min(nic['Preferred Color of Device']), max(nic['Preferred Color of Device'])+1, 50))"
      ],
      "metadata": {
        "colab": {
          "base_uri": "https://localhost:8080/",
          "height": 911
        },
        "id": "90De7vBSfRBx",
        "outputId": "ae42a47b-c78e-4236-fd03-152ab0419d01"
      },
      "execution_count": 127,
      "outputs": [
        {
          "output_type": "execute_result",
          "data": {
            "text/plain": [
              "Text(0.5, 1.0, 'Bar Plot: Distribution of Color preference w.r.t. Gender')"
            ]
          },
          "metadata": {},
          "execution_count": 127
        },
        {
          "output_type": "display_data",
          "data": {
            "text/plain": [
              "<Figure size 1080x1080 with 1 Axes>"
            ],
            "image/png": "[encoded data removed]"
          },
          "metadata": {}
        }
      ]
    },
    {
      "cell_type": "markdown",
      "source": [
        "Overall donors based on household income"
      ],
      "metadata": {
        "id": "9xjPrAw5QgE_"
      }
    },
    {
      "cell_type": "code",
      "source": [
        "z = sb.countplot(x = nic['Household Income'], data = nic) \n",
        "z.set_ylim(0,10000)\n",
        "plt.xlabel('Categories')\n",
        "plt.ylabel('Count')\n",
        "plt.title('Bar Plot: Total donors based on Household Income')"
      ],
      "metadata": {
        "colab": {
          "base_uri": "https://localhost:8080/",
          "height": 313
        },
        "id": "gNjwFjmRr5iA",
        "outputId": "2d66bbea-c099-408c-b0db-b79a9cc66e2d"
      },
      "execution_count": 128,
      "outputs": [
        {
          "output_type": "execute_result",
          "data": {
            "text/plain": [
              "Text(0.5, 1.0, 'Bar Plot: Total donors based on Household Income')"
            ]
          },
          "metadata": {},
          "execution_count": 128
        },
        {
          "output_type": "display_data",
          "data": {
            "text/plain": [
              "<Figure size 432x288 with 1 Axes>"
            ],
            "image/png": "[encoded data removed]"
          },
          "metadata": {}
        }
      ]
    },
    {
      "cell_type": "markdown",
      "source": [
        "Total amount donated by each household type"
      ],
      "metadata": {
        "id": "m_pV0pDPQl99"
      }
    },
    {
      "cell_type": "code",
      "source": [
        "from IPython.core.pylabtools import figsize\n",
        "fig, lp = plt.subplots(figsize=(15,7))\n",
        "nic.groupby(['Household Income']).sum()['Deposit Amount'].plot.barh(ax=lp)\n",
        "plt.ylabel('Categories')\n",
        "plt.xlabel('Sum of Deposit Amount')\n",
        "plt.title('Bar Plot: Total Amount donated based on Household Income')"
      ],
      "metadata": {
        "colab": {
          "base_uri": "https://localhost:8080/",
          "height": 476
        },
        "id": "l6xjKxiRx0DG",
        "outputId": "5de5415a-cf1a-40c8-85eb-7a72e060a441"
      },
      "execution_count": 129,
      "outputs": [
        {
          "output_type": "execute_result",
          "data": {
            "text/plain": [
              "Text(0.5, 1.0, 'Bar Plot: Total Amount donated based on Household Income')"
            ]
          },
          "metadata": {},
          "execution_count": 129
        },
        {
          "output_type": "display_data",
          "data": {
            "text/plain": [
              "<Figure size 1080x504 with 1 Axes>"
            ],
            "image/png": "[encoded data removed]"
          },
          "metadata": {}
        }
      ]
    },
    {
      "cell_type": "markdown",
      "source": [
        "## Data encoding for Building the Heatmap for correlation test."
      ],
      "metadata": {
        "id": "063RIb5iROl2"
      }
    },
    {
      "cell_type": "code",
      "source": [
        "nic['Gender_n'] = nic['Gender']\n",
        "encoder = ce.OrdinalEncoder(cols=['Gender_n'], return_df=True,\n",
        "                            mapping=[{'col':'Gender_n',\n",
        "'mapping':{'male':0,'female':1}}])\n",
        "nnic = encoder.fit_transform(nic)\n",
        "#dum1 = pd.get_dummies(nic['Gender'])\n"
      ],
      "metadata": {
        "id": "Kh4Wb6MJ3xPT"
      },
      "execution_count": 130,
      "outputs": []
    },
    {
      "cell_type": "code",
      "source": [
        "#dum2 = pd.get_dummies(nic['Favorite Flavor Of Ice Cream'])\n",
        "nnic['Favorite Flavor'] = nic['Favorite Flavor Of Ice Cream']\n",
        "encoder1 = ce.OrdinalEncoder(cols=['Favorite Flavor'], return_df=True,\n",
        "                            mapping=[{'col':'Favorite Flavor',\n",
        "'mapping':{'no preference':0,'chocolate':1,'specialty':2, 'swirl':3, 'vanilla':4}}])\n",
        "nnic = encoder1.fit_transform(nnic)\n",
        "#dum3 = pd.get_dummies(nic['Household Income'])\n",
        "#dum4 = pd.get_dummies(nic['Preferred Color of Device'])"
      ],
      "metadata": {
        "id": "l5Lo1NKXCSaX"
      },
      "execution_count": 131,
      "outputs": []
    },
    {
      "cell_type": "code",
      "source": [
        "nnic['Household_income'] = nic['Household Income']\n",
        "encoder2 = ce.OrdinalEncoder(cols=['Household_income'], return_df=True,\n",
        "                            mapping=[{'col':'Household_income',\n",
        "'mapping':{'<50K':0,'<100K':1,'>100K':2}}])\n",
        "nnic = encoder2.fit_transform(nnic)"
      ],
      "metadata": {
        "id": "HORceynREczm"
      },
      "execution_count": 132,
      "outputs": []
    },
    {
      "cell_type": "code",
      "source": [
        "nnic['Color_Device'] = nic['Preferred Color of Device']\n",
        "encoder3 = ce.OrdinalEncoder(cols=['Color_Device'], return_df=True,\n",
        "                            mapping=[{'col':'Color_Device',\n",
        "'mapping':{'no preference':0,'black':1,'blue':2,'red':3,'silver':4,'white':5}}])\n",
        "nnic = encoder3.fit_transform(nnic)\n",
        "Ic_final = nnic.drop(['Donate ID'], axis=1)"
      ],
      "metadata": {
        "id": "GBfFogbqEwFk"
      },
      "execution_count": 133,
      "outputs": []
    },
    {
      "cell_type": "code",
      "source": [
        "#nic = nic.merge(dum1, left_index=True, right_index=True)\n",
        "#nic = nic.merge(dum2, left_index=True, right_index=True)\n",
        "#nic = nic.merge(dum3, left_index=True, right_index=True)\n",
        "#nic = nic.merge(dum4, left_index=True, right_index=True)\n",
        "Ic_final.head()"
      ],
      "metadata": {
        "colab": {
          "base_uri": "https://localhost:8080/",
          "height": 268
        },
        "id": "zTdPux9q7qCf",
        "outputId": "3ed1737f-e460-4f45-8489-99dfabc7279e"
      },
      "execution_count": 134,
      "outputs": [
        {
          "output_type": "execute_result",
          "data": {
            "text/plain": [
              "  Donate Date  Gender  Deposit Amount Preferred Color of Device  \\\n",
              "0    7/1/2019  female           100.0                     white   \n",
              "1    7/1/2019  female           100.0                      blue   \n",
              "2    7/1/2019  female           100.0                    silver   \n",
              "3    7/1/2019  female           100.0                    silver   \n",
              "4    7/1/2019    male           100.0                     white   \n",
              "\n",
              "   Ice Cream Products Consumed Per Week Favorite Flavor Of Ice Cream  \\\n",
              "0                                   4.0                      vanilla   \n",
              "1                                   5.0                      vanilla   \n",
              "2                                   6.0                      vanilla   \n",
              "3                                   5.0                      vanilla   \n",
              "4                                   1.0                      vanilla   \n",
              "\n",
              "  Donated To Kick Starter Before Household Income Do you own a Keurig  \\\n",
              "0                            yes             <50K                 yes   \n",
              "1                            yes             <50K                 yes   \n",
              "2                            yes             <50K                 yes   \n",
              "3                            yes             <50K                 yes   \n",
              "4                            yes             <50K                 yes   \n",
              "\n",
              "   How many desserts do you eat a week  Gender_n  Favorite Flavor  \\\n",
              "0                                    7         1                4   \n",
              "1                                    5         1                4   \n",
              "2                                    1         1                4   \n",
              "3                                    4         1                4   \n",
              "4                                    7         0                4   \n",
              "\n",
              "   Household_income  Color_Device  \n",
              "0                 0             5  \n",
              "1                 0             2  \n",
              "2                 0             4  \n",
              "3                 0             4  \n",
              "4                 0             5  "
            ],
            "text/html": [
              "\n",
              "  <div id=\"df-1e042786-c0ac-4007-b350-cd7cd0b5ad84\">\n",
              "    <div class=\"colab-df-container\">\n",
              "      <div>\n",
              "<style scoped>\n",
              "    .dataframe tbody tr th:only-of-type {\n",
              "        vertical-align: middle;\n",
              "    }\n",
              "\n",
              "    .dataframe tbody tr th {\n",
              "        vertical-align: top;\n",
              "    }\n",
              "\n",
              "    .dataframe thead th {\n",
              "        text-align: right;\n",
              "    }\n",
              "</style>\n",
              "<table border=\"1\" class=\"dataframe\">\n",
              "  <thead>\n",
              "    <tr style=\"text-align: right;\">\n",
              "      <th></th>\n",
              "      <th>Donate Date</th>\n",
              "      <th>Gender</th>\n",
              "      <th>Deposit Amount</th>\n",
              "      <th>Preferred Color of Device</th>\n",
              "      <th>Ice Cream Products Consumed Per Week</th>\n",
              "      <th>Favorite Flavor Of Ice Cream</th>\n",
              "      <th>Donated To Kick Starter Before</th>\n",
              "      <th>Household Income</th>\n",
              "      <th>Do you own a Keurig</th>\n",
              "      <th>How many desserts do you eat a week</th>\n",
              "      <th>Gender_n</th>\n",
              "      <th>Favorite Flavor</th>\n",
              "      <th>Household_income</th>\n",
              "      <th>Color_Device</th>\n",
              "    </tr>\n",
              "  </thead>\n",
              "  <tbody>\n",
              "    <tr>\n",
              "      <th>0</th>\n",
              "      <td>7/1/2019</td>\n",
              "      <td>female</td>\n",
              "      <td>100.0</td>\n",
              "      <td>white</td>\n",
              "      <td>4.0</td>\n",
              "      <td>vanilla</td>\n",
              "      <td>yes</td>\n",
              "      <td>&lt;50K</td>\n",
              "      <td>yes</td>\n",
              "      <td>7</td>\n",
              "      <td>1</td>\n",
              "      <td>4</td>\n",
              "      <td>0</td>\n",
              "      <td>5</td>\n",
              "    </tr>\n",
              "    <tr>\n",
              "      <th>1</th>\n",
              "      <td>7/1/2019</td>\n",
              "      <td>female</td>\n",
              "      <td>100.0</td>\n",
              "      <td>blue</td>\n",
              "      <td>5.0</td>\n",
              "      <td>vanilla</td>\n",
              "      <td>yes</td>\n",
              "      <td>&lt;50K</td>\n",
              "      <td>yes</td>\n",
              "      <td>5</td>\n",
              "      <td>1</td>\n",
              "      <td>4</td>\n",
              "      <td>0</td>\n",
              "      <td>2</td>\n",
              "    </tr>\n",
              "    <tr>\n",
              "      <th>2</th>\n",
              "      <td>7/1/2019</td>\n",
              "      <td>female</td>\n",
              "      <td>100.0</td>\n",
              "      <td>silver</td>\n",
              "      <td>6.0</td>\n",
              "      <td>vanilla</td>\n",
              "      <td>yes</td>\n",
              "      <td>&lt;50K</td>\n",
              "      <td>yes</td>\n",
              "      <td>1</td>\n",
              "      <td>1</td>\n",
              "      <td>4</td>\n",
              "      <td>0</td>\n",
              "      <td>4</td>\n",
              "    </tr>\n",
              "    <tr>\n",
              "      <th>3</th>\n",
              "      <td>7/1/2019</td>\n",
              "      <td>female</td>\n",
              "      <td>100.0</td>\n",
              "      <td>silver</td>\n",
              "      <td>5.0</td>\n",
              "      <td>vanilla</td>\n",
              "      <td>yes</td>\n",
              "      <td>&lt;50K</td>\n",
              "      <td>yes</td>\n",
              "      <td>4</td>\n",
              "      <td>1</td>\n",
              "      <td>4</td>\n",
              "      <td>0</td>\n",
              "      <td>4</td>\n",
              "    </tr>\n",
              "    <tr>\n",
              "      <th>4</th>\n",
              "      <td>7/1/2019</td>\n",
              "      <td>male</td>\n",
              "      <td>100.0</td>\n",
              "      <td>white</td>\n",
              "      <td>1.0</td>\n",
              "      <td>vanilla</td>\n",
              "      <td>yes</td>\n",
              "      <td>&lt;50K</td>\n",
              "      <td>yes</td>\n",
              "      <td>7</td>\n",
              "      <td>0</td>\n",
              "      <td>4</td>\n",
              "      <td>0</td>\n",
              "      <td>5</td>\n",
              "    </tr>\n",
              "  </tbody>\n",
              "</table>\n",
              "</div>\n",
              "      <button class=\"colab-df-convert\" onclick=\"convertToInteractive('df-1e042786-c0ac-4007-b350-cd7cd0b5ad84')\"\n",
              "              title=\"Convert this dataframe to an interactive table.\"\n",
              "              style=\"display:none;\">\n",
              "        \n",
              "  <svg xmlns=\"http://www.w3.org/2000/svg\" height=\"24px\"viewBox=\"0 0 24 24\"\n",
              "       width=\"24px\">\n",
              "    <path d=\"M0 0h24v24H0V0z\" fill=\"none\"/>\n",
              "    <path d=\"M18.56 5.44l.94 2.06.94-2.06 2.06-.94-2.06-.94-.94-2.06-.94 2.06-2.06.94zm-11 1L8.5 8.5l.94-2.06 2.06-.94-2.06-.94L8.5 2.5l-.94 2.06-2.06.94zm10 10l.94 2.06.94-2.06 2.06-.94-2.06-.94-.94-2.06-.94 2.06-2.06.94z\"/><path d=\"M17.41 7.96l-1.37-1.37c-.4-.4-.92-.59-1.43-.59-.52 0-1.04.2-1.43.59L10.3 9.45l-7.72 7.72c-.78.78-.78 2.05 0 2.83L4 21.41c.39.39.9.59 1.41.59.51 0 1.02-.2 1.41-.59l7.78-7.78 2.81-2.81c.8-.78.8-2.07 0-2.86zM5.41 20L4 18.59l7.72-7.72 1.47 1.35L5.41 20z\"/>\n",
              "  </svg>\n",
              "      </button>\n",
              "      \n",
              "  <style>\n",
              "    .colab-df-container {\n",
              "      display:flex;\n",
              "      flex-wrap:wrap;\n",
              "      gap: 12px;\n",
              "    }\n",
              "\n",
              "    .colab-df-convert {\n",
              "      background-color: #E8F0FE;\n",
              "      border: none;\n",
              "      border-radius: 50%;\n",
              "      cursor: pointer;\n",
              "      display: none;\n",
              "      fill: #1967D2;\n",
              "      height: 32px;\n",
              "      padding: 0 0 0 0;\n",
              "      width: 32px;\n",
              "    }\n",
              "\n",
              "    .colab-df-convert:hover {\n",
              "      background-color: #E2EBFA;\n",
              "      box-shadow: 0px 1px 2px rgba(60, 64, 67, 0.3), 0px 1px 3px 1px rgba(60, 64, 67, 0.15);\n",
              "      fill: #174EA6;\n",
              "    }\n",
              "\n",
              "    [theme=dark] .colab-df-convert {\n",
              "      background-color: #3B4455;\n",
              "      fill: #D2E3FC;\n",
              "    }\n",
              "\n",
              "    [theme=dark] .colab-df-convert:hover {\n",
              "      background-color: #434B5C;\n",
              "      box-shadow: 0px 1px 3px 1px rgba(0, 0, 0, 0.15);\n",
              "      filter: drop-shadow(0px 1px 2px rgba(0, 0, 0, 0.3));\n",
              "      fill: #FFFFFF;\n",
              "    }\n",
              "  </style>\n",
              "\n",
              "      <script>\n",
              "        const buttonEl =\n",
              "          document.querySelector('#df-1e042786-c0ac-4007-b350-cd7cd0b5ad84 button.colab-df-convert');\n",
              "        buttonEl.style.display =\n",
              "          google.colab.kernel.accessAllowed ? 'block' : 'none';\n",
              "\n",
              "        async function convertToInteractive(key) {\n",
              "          const element = document.querySelector('#df-1e042786-c0ac-4007-b350-cd7cd0b5ad84');\n",
              "          const dataTable =\n",
              "            await google.colab.kernel.invokeFunction('convertToInteractive',\n",
              "                                                     [key], {});\n",
              "          if (!dataTable) return;\n",
              "\n",
              "          const docLinkHtml = 'Like what you see? Visit the ' +\n",
              "            '<a target=\"_blank\" href=https://colab.research.google.com/notebooks/data_table.ipynb>data table notebook</a>'\n",
              "            + ' to learn more about interactive tables.';\n",
              "          element.innerHTML = '';\n",
              "          dataTable['output_type'] = 'display_data';\n",
              "          await google.colab.output.renderOutput(dataTable, element);\n",
              "          const docLink = document.createElement('div');\n",
              "          docLink.innerHTML = docLinkHtml;\n",
              "          element.appendChild(docLink);\n",
              "        }\n",
              "      </script>\n",
              "    </div>\n",
              "  </div>\n",
              "  "
            ]
          },
          "metadata": {},
          "execution_count": 134
        }
      ]
    },
    {
      "cell_type": "code",
      "source": [
        "corr = Ic_final.corr()\n",
        "ax , fig  = plt.subplots(figsize =(20,7))\n",
        "sb.heatmap(corr ,vmin = -1 , cmap='coolwarm', annot = True)\n",
        "plt.show()"
      ],
      "metadata": {
        "colab": {
          "base_uri": "https://localhost:8080/",
          "height": 624
        },
        "id": "bZoRDWFf8htc",
        "outputId": "f0da50a9-3e91-47da-e6c7-e76366f8746b"
      },
      "execution_count": 135,
      "outputs": [
        {
          "output_type": "display_data",
          "data": {
            "text/plain": [
              "<Figure size 1440x504 with 2 Axes>"
            ],
            "image/png": "[encoded data removed]"
          },
          "metadata": {}
        }
      ]
    }
  ]
}